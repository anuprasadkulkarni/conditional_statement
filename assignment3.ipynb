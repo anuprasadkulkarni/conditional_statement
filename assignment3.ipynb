{
 "cells": [
  {
   "cell_type": "code",
   "execution_count": 55,
   "id": "609ab84f",
   "metadata": {},
   "outputs": [
    {
     "name": "stdout",
     "output_type": "stream",
     "text": [
      "enter age9\n",
      "children\n"
     ]
    }
   ],
   "source": [
    "# Conditional Statements\n",
    "# Please write Python Programs for all the problems .\n",
    "# 1.\t Take a variable ‘age’ which is of positive value and check the following:\n",
    "\n",
    "age=int(input(\"enter age\"))\n",
    "# a.\tIf age is less than 10, print “Children”.\n",
    "if age<10:\n",
    "    print(\"children\")\n",
    "# b.\tIf age is more than 60 , print ‘senior citizens’\n",
    "elif age>60:\n",
    "    print(\"senior citizen\")\n",
    "#c.\t If it is in between 10 and 60, print ‘normal citizen’\n",
    "elif (age>10) and (age<60):\n",
    "    print(\"normal citizen\")\n",
    "    \n",
    "    \n"
   ]
  },
  {
   "cell_type": "code",
   "execution_count": 10,
   "id": "887049ad",
   "metadata": {},
   "outputs": [
    {
     "name": "stdout",
     "output_type": "stream",
     "text": [
      "Enter your Gendermale\n",
      "Enter your age42\n",
      "100 of fare applicable\n"
     ]
    }
   ],
   "source": [
    "\n",
    "#2.\tFind  the final train ticket price with the following conditions.\n",
    "gender=input(\"Enter your Gender\")\n",
    "age=int(input(\"Enter your age\"))\n",
    "#a.\tIf male and sr.citizen, 70% of fare is applicable\n",
    "if gender==\"male\" and age>=60:\n",
    "    print(\"70% fare is aplicable\")\n",
    "#b.\tIf female and sr.citizen, 50% of fare is applicable.\n",
    "elif gender=='female' and age >=60:\n",
    "    print(\"50% fare applicable\")\n",
    "#c.\tIf female and normal citizen, 70% of fare is applicable\n",
    "elif gender==\"female\" and age<60:\n",
    "    print(\"70% fare applicable\")\n",
    "#d.\tIf male and normal citizen, 100% of fare is applicable\n",
    "elif gender==\"male\" and age<60:\n",
    "    print(\"100 of fare applicable\")\n",
    "#[Hint: First check for the gender, then calculate the fare based on age factor.. For both Male and Female ,consider them as sr.citizens if their age >=60]\n"
   ]
  },
  {
   "cell_type": "code",
   "execution_count": 10,
   "id": "39ff374e",
   "metadata": {},
   "outputs": [
    {
     "name": "stdout",
     "output_type": "stream",
     "text": [
      "enter no4\n",
      "number is not divisible by five\n"
     ]
    }
   ],
   "source": [
    "#3.\tCheck whether the given number is positive and divisible by 5 or not.\n",
    "#num=float(input(\"enter no\"))\n",
    "# if num>=0 and num%5==0:\n",
    "    \n",
    "#     print(\"number is positive and divisible by five \")\n",
    "\n",
    "# else:\n",
    "#     print(\" Number is negative  not divisible by five\")\n",
    "num=int(input(\"enter no\"))\n",
    "if num>=0 and num%5==0:\n",
    "    print(\"number is positive and divisible by five\")\n",
    "else:\n",
    "    print(\"number is not divisible by five\")\n"
   ]
  },
  {
   "cell_type": "code",
   "execution_count": 15,
   "id": "94633a59",
   "metadata": {},
   "outputs": [
    {
     "name": "stdout",
     "output_type": "stream",
     "text": [
      "['__add__', '__class__', '__class_getitem__', '__contains__', '__delattr__', '__delitem__', '__dir__', '__doc__', '__eq__', '__format__', '__ge__', '__getattribute__', '__getitem__', '__getstate__', '__gt__', '__hash__', '__iadd__', '__imul__', '__init__', '__init_subclass__', '__iter__', '__le__', '__len__', '__lt__', '__mul__', '__ne__', '__new__', '__reduce__', '__reduce_ex__', '__repr__', '__reversed__', '__rmul__', '__setattr__', '__setitem__', '__sizeof__', '__str__', '__subclasshook__', 'append', 'clear', 'copy', 'count', 'extend', 'index', 'insert', 'pop', 'remove', 'reverse', 'sort']\n",
      "[0, 1, 2, 3, 4, 5, 6, 7, 8, 9]\n",
      "Enter the number6\n",
      "0\n",
      "1\n",
      "2\n",
      "3\n",
      "4\n",
      "5\n"
     ]
    }
   ],
   "source": [
    "# Conditional Statements\n",
    "# Please implement Python coding for all the problems.\n",
    "\n",
    "# 1.\tA) list1=[1,5.5,(10+20j),’data science’].. Print default functions and parameters exist in list1.\n",
    "list1=[1,5.5,(10+20j),'data science']\n",
    "print(dir(list1))\n",
    "# B) How do we create a sequence of numbers in Python?\n",
    "sequence=range(10)\n",
    "print(list(sequence))\n",
    "# C)  Read the input from keyboard and print a sequence of numbers up to that number\n",
    "sequence=int(input(\"Enter the number\"))\n",
    "for i in range(sequence):\n",
    "    print(i)\n",
    "\n",
    "\n",
    "\n",
    "\n"
   ]
  },
  {
   "cell_type": "code",
   "execution_count": 20,
   "id": "4122b249",
   "metadata": {},
   "outputs": [
    {
     "name": "stdout",
     "output_type": "stream",
     "text": [
      "<zip object at 0x000001995A8037C0>\n",
      "The zipped result is : \n",
      "{('one', 0), ('eight', 7), ('nine', 8), ('two', 1), ('five', 4), ('four', 3), ('seven', 6), ('three', 2), ('six', 5)}\n"
     ]
    }
   ],
   "source": [
    "# 2.\tCreate 2 lists.. one list contains 10 numbers (list1=[0,1,2,3....9]) and other \n",
    "# list contains words of those 10 numbers (list2=['zero','one','two',.... ,'nine']).\n",
    "# list1=[0,1,2,3,4,5,6,7,8,9]\n",
    "# list2=[\"one\",\"two\",\"three\",\"four\",\"five\",\"six\",\"seven\",\"eight\",\"nine\"]\n",
    "#  #Create a dictionary such that list2 are keys and list 1 are values..\n",
    "# list3 = zip(list1,list2) \n",
    "# print(list3)\n",
    "\n",
    "list1 = [0, 1, 2, 3,4,5,6,7,8,9] \n",
    "list2 = [\"one\", \"two\", \"three\", \"four\",\"five\",\"six\",\"seven\",\"eight\",\"nine\"] \n",
    "\n",
    "  \n",
    "# Using zip() \n",
    "dict1 = zip(list2,list1) \n",
    "print(dict1)\n",
    "  \n",
    "\n",
    "#Converting values to print as set \n",
    "dict1 = set(dict1) \n",
    "  \n",
    "#Printing resultant values  \n",
    "print(\"The zipped result is : \") \n",
    "print(dict1) \n",
    "\n",
    "  \n",
    "\n"
   ]
  },
  {
   "cell_type": "code",
   "execution_count": 24,
   "id": "1f9793aa",
   "metadata": {},
   "outputs": [
    {
     "name": "stdout",
     "output_type": "stream",
     "text": [
      "[15, 14, 25, 16, 35, 18]\n"
     ]
    }
   ],
   "source": [
    "#3.\tConsider a list1 [3,4,5,6,7,8]\n",
    "list1=[3,4,5,6,7,8]\n",
    "list2=[]\n",
    "#Create a new list2 such that Add 10 to the even number and multiply with 5 if it is an odd number in the list1..\n",
    "for num in list1:\n",
    "    if num%2==0:\n",
    "        list2.append(num+10)\n",
    "    else:\n",
    "        list2.append(num*5)\n",
    "print(list2)\n",
    "\n"
   ]
  },
  {
   "cell_type": "code",
   "execution_count": 54,
   "id": "cbbfff00",
   "metadata": {},
   "outputs": [
    {
     "data": {
      "text/plain": [
       "'Hello,anu,Nice to meet you!'"
      ]
     },
     "execution_count": 54,
     "metadata": {},
     "output_type": "execute_result"
    }
   ],
   "source": [
    "# 4.     Write a simple user defined function that greets a person in such a way that :\n",
    "#              i) It should accept both the name of the person and message you want to deliver.\n",
    "#               ii) If no message is provided, it should greet a default message ‘How are you’\n",
    "#            Ex: Hello ---xxxx---, How are you  -🡪 default message.\n",
    "#             Ex: Hello ---xxxx---, --xx your message xx---.\n",
    "def greet(name,message=\"how are you\"):\n",
    "    greeting=f\"Hello,{name},{message}\"\n",
    "    return greeting\n",
    "    \n",
    "name1=\"anu\"\n",
    "msg=\"Nice to meet you!\"\n",
    "greet(name1,msg)\n"
   ]
  },
  {
   "cell_type": "code",
   "execution_count": null,
   "id": "37a24340",
   "metadata": {},
   "outputs": [],
   "source": []
  }
 ],
 "metadata": {
  "kernelspec": {
   "display_name": "Python 3 (ipykernel)",
   "language": "python",
   "name": "python3"
  },
  "language_info": {
   "codemirror_mode": {
    "name": "ipython",
    "version": 3
   },
   "file_extension": ".py",
   "mimetype": "text/x-python",
   "name": "python",
   "nbconvert_exporter": "python",
   "pygments_lexer": "ipython3",
   "version": "3.11.4"
  }
 },
 "nbformat": 4,
 "nbformat_minor": 5
}
